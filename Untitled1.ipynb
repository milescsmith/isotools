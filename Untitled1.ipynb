{
 "cells": [
  {
   "cell_type": "code",
   "execution_count": 1,
   "id": "72628264-cb53-4325-9bbf-837d893fe94b",
   "metadata": {},
   "outputs": [
    {
     "name": "stdout",
     "output_type": "stream",
     "text": [
      "/home/milo/miniconda3/envs/isotools/bin/python\n"
     ]
    }
   ],
   "source": [
    "!which python"
   ]
  },
  {
   "cell_type": "code",
   "execution_count": 3,
   "id": "5d92526a-a90a-47ff-a100-0a7d36fe0871",
   "metadata": {},
   "outputs": [
    {
     "ename": "ImportError",
     "evalue": "cannot import name 'isotools_logger' from partially initialized module 'isotools' (most likely due to a circular import) (/home/milo/miniconda3/envs/isotools/lib/python3.8/site-packages/isotools/__init__.py)",
     "output_type": "error",
     "traceback": [
      "\u001b[0;31m---------------------------------------------------------------------------\u001b[0m\n\u001b[0;31mImportError\u001b[0m                               Traceback (most recent call last)",
      "File \u001b[0;34m/home/milo/miniconda3/envs/isotools/lib/python3.8/site-packages/IPython/core/interactiveshell.py\u001b[0m, in \u001b[0;32mrun_code\u001b[0m:\nLine \u001b[0;34m3441\u001b[0m:  exec(code_obj, \u001b[36mself\u001b[39;49;00m.user_global_ns, \u001b[36mself\u001b[39;49;00m.user_ns)\n",
      "In  \u001b[0;34m[3]\u001b[0m:\nLine \u001b[0;34m1\u001b[0m:     \u001b[34mimport\u001b[39;49;00m \u001b[04m\u001b[36misotools\u001b[39;49;00m\n",
      "File \u001b[0;34m/home/milo/miniconda3/envs/isotools/lib/python3.8/site-packages/isotools/__init__.py\u001b[0m, in \u001b[0;32m<module>\u001b[0m:\nLine \u001b[0;34m6\u001b[0m:     \u001b[34mfrom\u001b[39;49;00m \u001b[04m\u001b[36m.\u001b[39;49;00m\u001b[04m\u001b[36m_transcriptome_filter\u001b[39;49;00m \u001b[34mimport\u001b[39;49;00m (\n",
      "File \u001b[0;34m/home/milo/miniconda3/envs/isotools/lib/python3.8/site-packages/isotools/_transcriptome_filter.py\u001b[0m, in \u001b[0;32m<module>\u001b[0m:\nLine \u001b[0;34m6\u001b[0m:     \u001b[34mfrom\u001b[39;49;00m \u001b[04m\u001b[36misotools\u001b[39;49;00m \u001b[34mimport\u001b[39;49;00m isotools_logger \u001b[34mas\u001b[39;49;00m logger\n",
      "\u001b[0;31mImportError\u001b[0m: cannot import name 'isotools_logger' from partially initialized module 'isotools' (most likely due to a circular import) (/home/milo/miniconda3/envs/isotools/lib/python3.8/site-packages/isotools/__init__.py)\n\u001b[0;31m---------------------------------------------------------------------------\u001b[0m"
     ]
    }
   ],
   "source": [
    "import isotools"
   ]
  },
  {
   "cell_type": "code",
   "execution_count": null,
   "id": "b8be2696-e3ac-4eff-b513-cbe2483f62fc",
   "metadata": {},
   "outputs": [],
   "source": [
    " "
   ]
  }
 ],
 "metadata": {
  "kernelspec": {
   "display_name": "Python 3.8 (XPython)",
   "language": "python",
   "name": "xpython"
  },
  "language_info": {
   "file_extension": ".py",
   "mimetype": "text/x-python",
   "name": "python",
   "version": "3.8.10"
  }
 },
 "nbformat": 4,
 "nbformat_minor": 5
}
