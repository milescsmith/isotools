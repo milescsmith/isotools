{
 "cells": [
  {
   "cell_type": "code",
   "execution_count": 1,
   "id": "f2b09061-595c-4d56-8449-38693dfff713",
   "metadata": {},
   "outputs": [],
   "source": [
    "import matplotlib.pyplot as plt\n",
    "import numpy as np\n",
    "import pandas as pd\n",
    "from tqdm import tqdm\n",
    "\n",
    "from pathlib import Path\n",
    "\n",
    "import isotools\n",
    "from isotools.transcriptome import Transcriptome\n",
    "from isotools.plots import plot_bar, plot_distr, plot_saturation"
   ]
  },
  {
   "cell_type": "code",
   "execution_count": 2,
   "id": "7e943c18-9b1a-4159-8f42-8b5a6045bb3a",
   "metadata": {},
   "outputs": [],
   "source": [
    "#Set reference and data paths\n",
    "reference_folder = Path(\"/mnt/group/references/genomic/homo_sapiens/sequences\")\n",
    "\n",
    "#Note we are now using the CHM13 Telomere-to-telomere reference\n",
    "#https://sites.google.com/ucsc.edu/t2tworkinggroup/chm13-cell-line?authuser=0\n",
    "genome = reference_folder.joinpath('chm13t2t', 'chm13.draft_v1.1.fasta.gz')\n",
    "anno   = reference_folder.joinpath('chm13t2t', 'chm13.draft_v1.1.gene_annotation.v4.gff3.gz')"
   ]
  },
  {
   "cell_type": "code",
   "execution_count": 3,
   "id": "2d454101-c8a8-4c2a-be9d-2a1274f1dbfd",
   "metadata": {},
   "outputs": [
    {
     "name": "stderr",
     "output_type": "stream",
     "text": [
      "importing reference from .pkl file chmt2t_v1.1.isotools.pkl\n"
     ]
    }
   ],
   "source": [
    "#Load reference.\n",
    "\n",
    "#After the reference is initially imported, can use the pickled file to speed things up\n",
    "pickled_ref = Path(\"chmt2t_v1.1.isotools.pkl\")\n",
    "\n",
    "if pickled_ref.exists():\n",
    "    isoseq = isotools.Transcriptome.from_reference(pickled_ref)\n",
    "else:\n",
    "    isoseq = isotools.Transcriptome.from_reference(anno)\n",
    "    isoseq.save_reference(\"chmt2t_v1.1.isotools.pkl\")\n"
   ]
  },
  {
   "cell_type": "code",
   "execution_count": 4,
   "id": "b5f0c326-c2ae-4831-bfbd-b57cc0f10c9c",
   "metadata": {},
   "outputs": [
    {
     "data": {
      "text/plain": [
       "True"
      ]
     },
     "execution_count": 4,
     "metadata": {},
     "output_type": "execute_result"
    }
   ],
   "source": [
    "sample_dir = Path(\"/mnt/scratch/isoseq/data/05_t2t_aligned_for_isotools\")\n",
    "sample_dir.exists()"
   ]
  },
  {
   "cell_type": "code",
   "execution_count": 5,
   "id": "08d9b169-3bd4-4369-b229-9110a7a15941",
   "metadata": {},
   "outputs": [
    {
     "data": {
      "text/plain": [
       "[PosixPath('/mnt/scratch/isoseq/data/05_t2t_aligned_for_isotools/bc1001/aligned.flnc.bam'),\n",
       " PosixPath('/mnt/scratch/isoseq/data/05_t2t_aligned_for_isotools/bc1002/aligned.flnc.bam'),\n",
       " PosixPath('/mnt/scratch/isoseq/data/05_t2t_aligned_for_isotools/bc1003/aligned.flnc.bam'),\n",
       " PosixPath('/mnt/scratch/isoseq/data/05_t2t_aligned_for_isotools/bc1004/aligned.flnc.bam'),\n",
       " PosixPath('/mnt/scratch/isoseq/data/05_t2t_aligned_for_isotools/bc1005/aligned.flnc.bam'),\n",
       " PosixPath('/mnt/scratch/isoseq/data/05_t2t_aligned_for_isotools/bc1006/aligned.flnc.bam'),\n",
       " PosixPath('/mnt/scratch/isoseq/data/05_t2t_aligned_for_isotools/bc1008/aligned.flnc.bam'),\n",
       " PosixPath('/mnt/scratch/isoseq/data/05_t2t_aligned_for_isotools/bc1012/aligned.flnc.bam'),\n",
       " PosixPath('/mnt/scratch/isoseq/data/05_t2t_aligned_for_isotools/bc1018/aligned.flnc.bam'),\n",
       " PosixPath('/mnt/scratch/isoseq/data/05_t2t_aligned_for_isotools/bc1019/aligned.flnc.bam'),\n",
       " PosixPath('/mnt/scratch/isoseq/data/05_t2t_aligned_for_isotools/bc1020/aligned.flnc.bam'),\n",
       " PosixPath('/mnt/scratch/isoseq/data/05_t2t_aligned_for_isotools/bc1023/aligned.flnc.bam')]"
      ]
     },
     "execution_count": 5,
     "metadata": {},
     "output_type": "execute_result"
    }
   ],
   "source": [
    "stuff = list(sample_dir.glob(\"**/*.bam\"))\n",
    "stuff"
   ]
  },
  {
   "cell_type": "code",
   "execution_count": 6,
   "id": "0142fe5c-c751-47a5-a601-5f8088b1dd51",
   "metadata": {
    "tags": []
   },
   "outputs": [
    {
     "data": {
      "text/html": [
       "<div>\n",
       "<style scoped>\n",
       "    .dataframe tbody tr th:only-of-type {\n",
       "        vertical-align: middle;\n",
       "    }\n",
       "\n",
       "    .dataframe tbody tr th {\n",
       "        vertical-align: top;\n",
       "    }\n",
       "\n",
       "    .dataframe thead th {\n",
       "        text-align: right;\n",
       "    }\n",
       "</style>\n",
       "<table border=\"1\" class=\"dataframe\">\n",
       "  <thead>\n",
       "    <tr style=\"text-align: right;\">\n",
       "      <th></th>\n",
       "      <th>barcode</th>\n",
       "      <th>file</th>\n",
       "    </tr>\n",
       "  </thead>\n",
       "  <tbody>\n",
       "    <tr>\n",
       "      <th>0</th>\n",
       "      <td>bc1001</td>\n",
       "      <td>/mnt/scratch/isoseq/data/05_t2t_aligned_for_is...</td>\n",
       "    </tr>\n",
       "    <tr>\n",
       "      <th>1</th>\n",
       "      <td>bc1002</td>\n",
       "      <td>/mnt/scratch/isoseq/data/05_t2t_aligned_for_is...</td>\n",
       "    </tr>\n",
       "    <tr>\n",
       "      <th>2</th>\n",
       "      <td>bc1003</td>\n",
       "      <td>/mnt/scratch/isoseq/data/05_t2t_aligned_for_is...</td>\n",
       "    </tr>\n",
       "    <tr>\n",
       "      <th>3</th>\n",
       "      <td>bc1004</td>\n",
       "      <td>/mnt/scratch/isoseq/data/05_t2t_aligned_for_is...</td>\n",
       "    </tr>\n",
       "    <tr>\n",
       "      <th>4</th>\n",
       "      <td>bc1005</td>\n",
       "      <td>/mnt/scratch/isoseq/data/05_t2t_aligned_for_is...</td>\n",
       "    </tr>\n",
       "    <tr>\n",
       "      <th>5</th>\n",
       "      <td>bc1006</td>\n",
       "      <td>/mnt/scratch/isoseq/data/05_t2t_aligned_for_is...</td>\n",
       "    </tr>\n",
       "    <tr>\n",
       "      <th>6</th>\n",
       "      <td>bc1008</td>\n",
       "      <td>/mnt/scratch/isoseq/data/05_t2t_aligned_for_is...</td>\n",
       "    </tr>\n",
       "    <tr>\n",
       "      <th>7</th>\n",
       "      <td>bc1012</td>\n",
       "      <td>/mnt/scratch/isoseq/data/05_t2t_aligned_for_is...</td>\n",
       "    </tr>\n",
       "    <tr>\n",
       "      <th>8</th>\n",
       "      <td>bc1018</td>\n",
       "      <td>/mnt/scratch/isoseq/data/05_t2t_aligned_for_is...</td>\n",
       "    </tr>\n",
       "    <tr>\n",
       "      <th>9</th>\n",
       "      <td>bc1019</td>\n",
       "      <td>/mnt/scratch/isoseq/data/05_t2t_aligned_for_is...</td>\n",
       "    </tr>\n",
       "    <tr>\n",
       "      <th>10</th>\n",
       "      <td>bc1020</td>\n",
       "      <td>/mnt/scratch/isoseq/data/05_t2t_aligned_for_is...</td>\n",
       "    </tr>\n",
       "    <tr>\n",
       "      <th>11</th>\n",
       "      <td>bc1023</td>\n",
       "      <td>/mnt/scratch/isoseq/data/05_t2t_aligned_for_is...</td>\n",
       "    </tr>\n",
       "  </tbody>\n",
       "</table>\n",
       "</div>"
      ],
      "text/plain": [
       "   barcode                                               file\n",
       "0   bc1001  /mnt/scratch/isoseq/data/05_t2t_aligned_for_is...\n",
       "1   bc1002  /mnt/scratch/isoseq/data/05_t2t_aligned_for_is...\n",
       "2   bc1003  /mnt/scratch/isoseq/data/05_t2t_aligned_for_is...\n",
       "3   bc1004  /mnt/scratch/isoseq/data/05_t2t_aligned_for_is...\n",
       "4   bc1005  /mnt/scratch/isoseq/data/05_t2t_aligned_for_is...\n",
       "5   bc1006  /mnt/scratch/isoseq/data/05_t2t_aligned_for_is...\n",
       "6   bc1008  /mnt/scratch/isoseq/data/05_t2t_aligned_for_is...\n",
       "7   bc1012  /mnt/scratch/isoseq/data/05_t2t_aligned_for_is...\n",
       "8   bc1018  /mnt/scratch/isoseq/data/05_t2t_aligned_for_is...\n",
       "9   bc1019  /mnt/scratch/isoseq/data/05_t2t_aligned_for_is...\n",
       "10  bc1020  /mnt/scratch/isoseq/data/05_t2t_aligned_for_is...\n",
       "11  bc1023  /mnt/scratch/isoseq/data/05_t2t_aligned_for_is..."
      ]
     },
     "execution_count": 6,
     "metadata": {},
     "output_type": "execute_result"
    }
   ],
   "source": [
    "#find bam files and associate with sample barcodes\n",
    "sample_bams = pd.DataFrame.from_dict(\n",
    "    {\n",
    "        _.parent.stem: _ \n",
    "        for _\n",
    "        in sample_dir.glob(\"**/*.bam\")\n",
    "    },\n",
    "    orient = \"index\",\n",
    "    columns = [\"file\"]\n",
    ").reset_index(\n",
    ").rename(columns={\"index\": \"barcode\"})\n",
    "\n",
    "sample_bams"
   ]
  },
  {
   "cell_type": "code",
   "execution_count": 7,
   "id": "c1ecffbd-e55c-49c4-a0d2-7081a5548dba",
   "metadata": {},
   "outputs": [
    {
     "data": {
      "text/html": [
       "<div>\n",
       "<style scoped>\n",
       "    .dataframe tbody tr th:only-of-type {\n",
       "        vertical-align: middle;\n",
       "    }\n",
       "\n",
       "    .dataframe tbody tr th {\n",
       "        vertical-align: top;\n",
       "    }\n",
       "\n",
       "    .dataframe thead th {\n",
       "        text-align: right;\n",
       "    }\n",
       "</style>\n",
       "<table border=\"1\" class=\"dataframe\">\n",
       "  <thead>\n",
       "    <tr style=\"text-align: right;\">\n",
       "      <th></th>\n",
       "      <th>barcode</th>\n",
       "      <th>subject_id</th>\n",
       "      <th>disease_class</th>\n",
       "      <th>ethnicity</th>\n",
       "    </tr>\n",
       "  </thead>\n",
       "  <tbody>\n",
       "    <tr>\n",
       "      <th>0</th>\n",
       "      <td>bc1001</td>\n",
       "      <td>590085-5-4</td>\n",
       "      <td>NEG</td>\n",
       "      <td>EA</td>\n",
       "    </tr>\n",
       "    <tr>\n",
       "      <th>1</th>\n",
       "      <td>bc1002</td>\n",
       "      <td>590108-5-4</td>\n",
       "      <td>SLE</td>\n",
       "      <td>EA</td>\n",
       "    </tr>\n",
       "    <tr>\n",
       "      <th>2</th>\n",
       "      <td>bc1003</td>\n",
       "      <td>541305</td>\n",
       "      <td>NEG</td>\n",
       "      <td>AA</td>\n",
       "    </tr>\n",
       "    <tr>\n",
       "      <th>3</th>\n",
       "      <td>bc1004</td>\n",
       "      <td>541308</td>\n",
       "      <td>POS</td>\n",
       "      <td>AA</td>\n",
       "    </tr>\n",
       "    <tr>\n",
       "      <th>4</th>\n",
       "      <td>bc1005</td>\n",
       "      <td>541424</td>\n",
       "      <td>POS</td>\n",
       "      <td>AA</td>\n",
       "    </tr>\n",
       "    <tr>\n",
       "      <th>5</th>\n",
       "      <td>bc1006</td>\n",
       "      <td>541561</td>\n",
       "      <td>NEG</td>\n",
       "      <td>EA</td>\n",
       "    </tr>\n",
       "    <tr>\n",
       "      <th>6</th>\n",
       "      <td>bc1008</td>\n",
       "      <td>541826</td>\n",
       "      <td>POS</td>\n",
       "      <td>EA</td>\n",
       "    </tr>\n",
       "    <tr>\n",
       "      <th>7</th>\n",
       "      <td>bc1012</td>\n",
       "      <td>510099</td>\n",
       "      <td>NEG</td>\n",
       "      <td>AA</td>\n",
       "    </tr>\n",
       "    <tr>\n",
       "      <th>8</th>\n",
       "      <td>bc1018</td>\n",
       "      <td>550003-6-2</td>\n",
       "      <td>SLE</td>\n",
       "      <td>AA</td>\n",
       "    </tr>\n",
       "    <tr>\n",
       "      <th>9</th>\n",
       "      <td>bc1019</td>\n",
       "      <td>500066-6-2</td>\n",
       "      <td>SLE</td>\n",
       "      <td>AA</td>\n",
       "    </tr>\n",
       "    <tr>\n",
       "      <th>10</th>\n",
       "      <td>bc1020</td>\n",
       "      <td>500028-6-4</td>\n",
       "      <td>SLE</td>\n",
       "      <td>EA</td>\n",
       "    </tr>\n",
       "    <tr>\n",
       "      <th>11</th>\n",
       "      <td>bc1023</td>\n",
       "      <td>541522</td>\n",
       "      <td>POS</td>\n",
       "      <td>EA</td>\n",
       "    </tr>\n",
       "  </tbody>\n",
       "</table>\n",
       "</div>"
      ],
      "text/plain": [
       "   barcode  subject_id disease_class ethnicity\n",
       "0   bc1001  590085-5-4           NEG        EA\n",
       "1   bc1002  590108-5-4           SLE        EA\n",
       "2   bc1003      541305           NEG        AA\n",
       "3   bc1004      541308           POS        AA\n",
       "4   bc1005      541424           POS        AA\n",
       "5   bc1006      541561           NEG        EA\n",
       "6   bc1008      541826           POS        EA\n",
       "7   bc1012      510099           NEG        AA\n",
       "8   bc1018  550003-6-2           SLE        AA\n",
       "9   bc1019  500066-6-2           SLE        AA\n",
       "10  bc1020  500028-6-4           SLE        EA\n",
       "11  bc1023      541522           POS        EA"
      ]
     },
     "execution_count": 7,
     "metadata": {},
     "output_type": "execute_result"
    }
   ],
   "source": [
    "#import subject metadata\n",
    "metadata = pd.read_csv(Path(\"/mnt/scratch/isoseq/sample_info.csv\"))\n",
    "metadata"
   ]
  },
  {
   "cell_type": "code",
   "execution_count": 8,
   "id": "700bf455-0ee4-4224-9710-a6a62feba22d",
   "metadata": {},
   "outputs": [
    {
     "data": {
      "text/html": [
       "<div>\n",
       "<style scoped>\n",
       "    .dataframe tbody tr th:only-of-type {\n",
       "        vertical-align: middle;\n",
       "    }\n",
       "\n",
       "    .dataframe tbody tr th {\n",
       "        vertical-align: top;\n",
       "    }\n",
       "\n",
       "    .dataframe thead th {\n",
       "        text-align: right;\n",
       "    }\n",
       "</style>\n",
       "<table border=\"1\" class=\"dataframe\">\n",
       "  <thead>\n",
       "    <tr style=\"text-align: right;\">\n",
       "      <th></th>\n",
       "      <th>barcode</th>\n",
       "      <th>subject_id</th>\n",
       "      <th>disease_class</th>\n",
       "      <th>ethnicity</th>\n",
       "      <th>file</th>\n",
       "    </tr>\n",
       "  </thead>\n",
       "  <tbody>\n",
       "    <tr>\n",
       "      <th>0</th>\n",
       "      <td>bc1001</td>\n",
       "      <td>590085-5-4</td>\n",
       "      <td>NEG</td>\n",
       "      <td>EA</td>\n",
       "      <td>/mnt/scratch/isoseq/data/05_t2t_aligned_for_is...</td>\n",
       "    </tr>\n",
       "    <tr>\n",
       "      <th>1</th>\n",
       "      <td>bc1002</td>\n",
       "      <td>590108-5-4</td>\n",
       "      <td>SLE</td>\n",
       "      <td>EA</td>\n",
       "      <td>/mnt/scratch/isoseq/data/05_t2t_aligned_for_is...</td>\n",
       "    </tr>\n",
       "    <tr>\n",
       "      <th>2</th>\n",
       "      <td>bc1003</td>\n",
       "      <td>541305</td>\n",
       "      <td>NEG</td>\n",
       "      <td>AA</td>\n",
       "      <td>/mnt/scratch/isoseq/data/05_t2t_aligned_for_is...</td>\n",
       "    </tr>\n",
       "    <tr>\n",
       "      <th>3</th>\n",
       "      <td>bc1004</td>\n",
       "      <td>541308</td>\n",
       "      <td>POS</td>\n",
       "      <td>AA</td>\n",
       "      <td>/mnt/scratch/isoseq/data/05_t2t_aligned_for_is...</td>\n",
       "    </tr>\n",
       "    <tr>\n",
       "      <th>4</th>\n",
       "      <td>bc1005</td>\n",
       "      <td>541424</td>\n",
       "      <td>POS</td>\n",
       "      <td>AA</td>\n",
       "      <td>/mnt/scratch/isoseq/data/05_t2t_aligned_for_is...</td>\n",
       "    </tr>\n",
       "    <tr>\n",
       "      <th>5</th>\n",
       "      <td>bc1006</td>\n",
       "      <td>541561</td>\n",
       "      <td>NEG</td>\n",
       "      <td>EA</td>\n",
       "      <td>/mnt/scratch/isoseq/data/05_t2t_aligned_for_is...</td>\n",
       "    </tr>\n",
       "    <tr>\n",
       "      <th>6</th>\n",
       "      <td>bc1008</td>\n",
       "      <td>541826</td>\n",
       "      <td>POS</td>\n",
       "      <td>EA</td>\n",
       "      <td>/mnt/scratch/isoseq/data/05_t2t_aligned_for_is...</td>\n",
       "    </tr>\n",
       "    <tr>\n",
       "      <th>7</th>\n",
       "      <td>bc1012</td>\n",
       "      <td>510099</td>\n",
       "      <td>NEG</td>\n",
       "      <td>AA</td>\n",
       "      <td>/mnt/scratch/isoseq/data/05_t2t_aligned_for_is...</td>\n",
       "    </tr>\n",
       "    <tr>\n",
       "      <th>8</th>\n",
       "      <td>bc1018</td>\n",
       "      <td>550003-6-2</td>\n",
       "      <td>SLE</td>\n",
       "      <td>AA</td>\n",
       "      <td>/mnt/scratch/isoseq/data/05_t2t_aligned_for_is...</td>\n",
       "    </tr>\n",
       "    <tr>\n",
       "      <th>9</th>\n",
       "      <td>bc1019</td>\n",
       "      <td>500066-6-2</td>\n",
       "      <td>SLE</td>\n",
       "      <td>AA</td>\n",
       "      <td>/mnt/scratch/isoseq/data/05_t2t_aligned_for_is...</td>\n",
       "    </tr>\n",
       "    <tr>\n",
       "      <th>10</th>\n",
       "      <td>bc1020</td>\n",
       "      <td>500028-6-4</td>\n",
       "      <td>SLE</td>\n",
       "      <td>EA</td>\n",
       "      <td>/mnt/scratch/isoseq/data/05_t2t_aligned_for_is...</td>\n",
       "    </tr>\n",
       "    <tr>\n",
       "      <th>11</th>\n",
       "      <td>bc1023</td>\n",
       "      <td>541522</td>\n",
       "      <td>POS</td>\n",
       "      <td>EA</td>\n",
       "      <td>/mnt/scratch/isoseq/data/05_t2t_aligned_for_is...</td>\n",
       "    </tr>\n",
       "  </tbody>\n",
       "</table>\n",
       "</div>"
      ],
      "text/plain": [
       "   barcode  subject_id disease_class ethnicity  \\\n",
       "0   bc1001  590085-5-4           NEG        EA   \n",
       "1   bc1002  590108-5-4           SLE        EA   \n",
       "2   bc1003      541305           NEG        AA   \n",
       "3   bc1004      541308           POS        AA   \n",
       "4   bc1005      541424           POS        AA   \n",
       "5   bc1006      541561           NEG        EA   \n",
       "6   bc1008      541826           POS        EA   \n",
       "7   bc1012      510099           NEG        AA   \n",
       "8   bc1018  550003-6-2           SLE        AA   \n",
       "9   bc1019  500066-6-2           SLE        AA   \n",
       "10  bc1020  500028-6-4           SLE        EA   \n",
       "11  bc1023      541522           POS        EA   \n",
       "\n",
       "                                                 file  \n",
       "0   /mnt/scratch/isoseq/data/05_t2t_aligned_for_is...  \n",
       "1   /mnt/scratch/isoseq/data/05_t2t_aligned_for_is...  \n",
       "2   /mnt/scratch/isoseq/data/05_t2t_aligned_for_is...  \n",
       "3   /mnt/scratch/isoseq/data/05_t2t_aligned_for_is...  \n",
       "4   /mnt/scratch/isoseq/data/05_t2t_aligned_for_is...  \n",
       "5   /mnt/scratch/isoseq/data/05_t2t_aligned_for_is...  \n",
       "6   /mnt/scratch/isoseq/data/05_t2t_aligned_for_is...  \n",
       "7   /mnt/scratch/isoseq/data/05_t2t_aligned_for_is...  \n",
       "8   /mnt/scratch/isoseq/data/05_t2t_aligned_for_is...  \n",
       "9   /mnt/scratch/isoseq/data/05_t2t_aligned_for_is...  \n",
       "10  /mnt/scratch/isoseq/data/05_t2t_aligned_for_is...  \n",
       "11  /mnt/scratch/isoseq/data/05_t2t_aligned_for_is...  "
      ]
     },
     "execution_count": 8,
     "metadata": {},
     "output_type": "execute_result"
    }
   ],
   "source": [
    "#Add bam file locations to sample metadata\n",
    "sample_data = metadata.merge(sample_bams, on = \"barcode\")\n",
    "sample_data"
   ]
  },
  {
   "cell_type": "code",
   "execution_count": null,
   "id": "b69c14a9-31e3-4a37-bfc7-1cba2a7d382e",
   "metadata": {},
   "outputs": [
    {
     "name": "stderr",
     "output_type": "stream",
     "text": [
      "adding sample 590085-5-4 from file /mnt/scratch/isoseq/data/05_t2t_aligned_for_isotools/bc1001/aligned.flnc.bam\n",
      "100%|##########| 314701.0/314701 [01:23<00:00, 3774.84reads/s, chr=chrM] \n",
      "ignored 23 chimeric alignments with only one part aligned to specified chromosomes.\n",
      "imported 152 chimeric alignments that can be chained to single nonchimeric transcripts (long intron alingment split)\n",
      "ignoring 1920 chimeric alignments with less than 2 reads\n",
      "imported 307829 nonchimeric reads (including  152 chained chimeric alignments) and 766 chimeric reads with coverage of at least 2.\n",
      "adding sample 590108-5-4 from file /mnt/scratch/isoseq/data/05_t2t_aligned_for_isotools/bc1002/aligned.flnc.bam\n",
      "100%|##########| 291563.0/291563 [01:19<00:00, 3672.78reads/s, chr=chrM] \n",
      "ignored 49 chimeric alignments with only one part aligned to specified chromosomes.\n",
      "imported 181 chimeric alignments that can be chained to single nonchimeric transcripts (long intron alingment split)\n",
      "ignoring 3168 chimeric alignments with less than 2 reads\n",
      "imported 281967 nonchimeric reads (including  181 chained chimeric alignments) and 830 chimeric reads with coverage of at least 2.\n",
      "adding sample 541305 from file /mnt/scratch/isoseq/data/05_t2t_aligned_for_isotools/bc1003/aligned.flnc.bam\n",
      "100%|##########| 335288.0/335288 [01:26<00:00, 3891.29reads/s, chr=chrM]  \n",
      "ignored 24 chimeric alignments with only one part aligned to specified chromosomes.\n",
      "imported 142 chimeric alignments that can be chained to single nonchimeric transcripts (long intron alingment split)\n",
      "ignoring 1785 chimeric alignments with less than 2 reads\n",
      "imported 324670 nonchimeric reads (including  142 chained chimeric alignments) and 1833 chimeric reads with coverage of at least 2.\n",
      "adding sample 541308 from file /mnt/scratch/isoseq/data/05_t2t_aligned_for_isotools/bc1004/aligned.flnc.bam\n",
      "100%|##########| 317449.0/317449 [01:27<00:00, 3639.83reads/s, chr=chrM]  \n",
      "ignored 32 chimeric alignments with only one part aligned to specified chromosomes.\n",
      "imported 198 chimeric alignments that can be chained to single nonchimeric transcripts (long intron alingment split)\n",
      "ignoring 2127 chimeric alignments with less than 2 reads\n",
      "imported 307610 nonchimeric reads (including  198 chained chimeric alignments) and 1418 chimeric reads with coverage of at least 2.\n",
      "adding sample 541424 from file /mnt/scratch/isoseq/data/05_t2t_aligned_for_isotools/bc1005/aligned.flnc.bam\n",
      "100%|##########| 325227.0/325227 [01:37<00:00, 3338.37reads/s, chr=chrM]  \n",
      "ignored 28 chimeric alignments with only one part aligned to specified chromosomes.\n",
      "imported 231 chimeric alignments that can be chained to single nonchimeric transcripts (long intron alingment split)\n",
      "ignoring 2750 chimeric alignments with less than 2 reads\n",
      "imported 315404 nonchimeric reads (including  231 chained chimeric alignments) and 1107 chimeric reads with coverage of at least 2.\n",
      "adding sample 541561 from file /mnt/scratch/isoseq/data/05_t2t_aligned_for_isotools/bc1006/aligned.flnc.bam\n",
      "100%|##########| 218330.0/218330 [01:04<00:00, 3364.19reads/s, chr=chrM] \n",
      "ignored 15 chimeric alignments with only one part aligned to specified chromosomes.\n",
      "imported 147 chimeric alignments that can be chained to single nonchimeric transcripts (long intron alingment split)\n",
      "ignoring 1506 chimeric alignments with less than 2 reads\n",
      "imported 211395 nonchimeric reads (including  147 chained chimeric alignments) and 1055 chimeric reads with coverage of at least 2.\n",
      "adding sample 541826 from file /mnt/scratch/isoseq/data/05_t2t_aligned_for_isotools/bc1008/aligned.flnc.bam\n",
      "100%|##########| 326943.0/326943 [01:22<00:00, 3981.13reads/s, chr=chrM]  \n",
      "ignored 40 chimeric alignments with only one part aligned to specified chromosomes.\n",
      "imported 224 chimeric alignments that can be chained to single nonchimeric transcripts (long intron alingment split)\n",
      "ignoring 2271 chimeric alignments with less than 2 reads\n",
      "imported 317867 nonchimeric reads (including  224 chained chimeric alignments) and 1187 chimeric reads with coverage of at least 2.\n",
      "adding sample 510099 from file /mnt/scratch/isoseq/data/05_t2t_aligned_for_isotools/bc1012/aligned.flnc.bam\n",
      "100%|##########| 382221.0/382221 [01:22<00:00, 4622.47reads/s, chr=chrM]  \n",
      "ignored 17 chimeric alignments with only one part aligned to specified chromosomes.\n",
      "imported 210 chimeric alignments that can be chained to single nonchimeric transcripts (long intron alingment split)\n",
      "ignoring 1991 chimeric alignments with less than 2 reads\n",
      "imported 375920 nonchimeric reads (including  210 chained chimeric alignments) and 579 chimeric reads with coverage of at least 2.\n",
      "adding sample 550003-6-2 from file /mnt/scratch/isoseq/data/05_t2t_aligned_for_isotools/bc1018/aligned.flnc.bam\n",
      "100%|##########| 304455.0/304455 [01:09<00:00, 4363.48reads/s, chr=chrM]  \n",
      "ignored 14 chimeric alignments with only one part aligned to specified chromosomes.\n",
      "imported 195 chimeric alignments that can be chained to single nonchimeric transcripts (long intron alingment split)\n",
      "ignoring 2119 chimeric alignments with less than 2 reads\n",
      "imported 297481 nonchimeric reads (including  195 chained chimeric alignments) and 673 chimeric reads with coverage of at least 2.\n",
      "adding sample 500066-6-2 from file /mnt/scratch/isoseq/data/05_t2t_aligned_for_isotools/bc1019/aligned.flnc.bam\n",
      "100%|##########| 295938.0/295938 [01:18<00:00, 3790.93reads/s, chr=chrM]  \n",
      "ignored 43 chimeric alignments with only one part aligned to specified chromosomes.\n",
      "imported 176 chimeric alignments that can be chained to single nonchimeric transcripts (long intron alingment split)\n",
      "ignoring 2746 chimeric alignments with less than 2 reads\n",
      "imported 286851 nonchimeric reads (including  176 chained chimeric alignments) and 878 chimeric reads with coverage of at least 2.\n",
      "adding sample 500028-6-4 from file /mnt/scratch/isoseq/data/05_t2t_aligned_for_isotools/bc1020/aligned.flnc.bam\n",
      "100%|##########| 325967.0/325967 [01:25<00:00, 3790.68reads/s, chr=chrM]  \n",
      "ignored 18 chimeric alignments with only one part aligned to specified chromosomes.\n",
      "imported 195 chimeric alignments that can be chained to single nonchimeric transcripts (long intron alingment split)\n",
      "ignoring 2085 chimeric alignments with less than 2 reads\n",
      "imported 318966 nonchimeric reads (including  195 chained chimeric alignments) and 715 chimeric reads with coverage of at least 2.\n",
      "adding sample 541522 from file /mnt/scratch/isoseq/data/05_t2t_aligned_for_isotools/bc1023/aligned.flnc.bam\n",
      "100%|##########| 266754.0/266754 [01:12<00:00, 3681.39reads/s, chr=chrM] \n",
      "ignored 25 chimeric alignments with only one part aligned to specified chromosomes.\n",
      "imported 171 chimeric alignments that can be chained to single nonchimeric transcripts (long intron alingment split)\n",
      "ignoring 2089 chimeric alignments with less than 2 reads\n",
      "imported 260203 nonchimeric reads (including  171 chained chimeric alignments) and 573 chimeric reads with coverage of at least 2.\n",
      "saving transcriptome to all_pilot_samples_unclustered.pkl\n"
     ]
    }
   ],
   "source": [
    "sample_pickle = Path(\"all_pilot_samples_unclustered.pkl\")\n",
    "if sample_pickle.exists():\n",
    "    isoseq.load(sample_pickle)\n",
    "else:\n",
    "    for sample in tqdm(sample_data.itertuples()):\n",
    "        isoseq.add_sample_from_bam(\n",
    "            sample.file,\n",
    "            sample_name=sample.subject_id,\n",
    "            group=f'{sample.ethnicity}_{sample.disease_class}'\n",
    "        )\n",
    "    isoseq.save(sample_pickle)"
   ]
  },
  {
   "cell_type": "code",
   "execution_count": null,
   "id": "9b8bb8f9-6e3b-46e7-8329-16bba4f2e2d9",
   "metadata": {},
   "outputs": [],
   "source": [
    "sample_groups={\n",
    "        \"NEG\": [\"590085-5-4\", \"541305\", \"541561\", \"510099\"],\n",
    "        \"POS\": [\"541308\", \"541424\", \"541826\", \"541522\"],\n",
    "        \"SLE\": [\"590108-5-4\",\"550003-6-2\",\"500066-6-2\",\"500028-6-4\"],\n",
    "    }"
   ]
  },
  {
   "cell_type": "code",
   "execution_count": null,
   "id": "0db28fd7-328a-4359-8564-22049ced9a16",
   "metadata": {},
   "outputs": [],
   "source": [
    "isoseq.add_qc_metrics(genome)\n",
    "isoseq.make_index()\n",
    "# isoseq.save(\"all_pilot_samples.pkl\")"
   ]
  },
  {
   "cell_type": "code",
   "execution_count": null,
   "id": "b2d42611-0afa-4479-844b-59bb03451278",
   "metadata": {},
   "outputs": [],
   "source": [
    "from isotools import DEFAULT_GENE_FILTER, DEFAULT_TRANSCRIPT_FILTER,DEFAULT_REF_TRANSCRIPT_FILTER\n",
    "ref_filter=DEFAULT_REF_TRANSCRIPT_FILTER\n",
    "#lets define some custom reference filter flags based on the gencode specific transcript information:\n",
    "ref_filter['HIGH_SUPPORT']='transcript_support_level==\"1\"'\n",
    "ref_filter['PROTEIN_CODING']='transcript_type==\"protein_coding\"'\n",
    "print(DEFAULT_TRANSCRIPT_FILTER)\n",
    "\n",
    "gene_filter=DEFAULT_GENE_FILTER\n",
    "isoseq.add_filter( gene_filter=gene_filter, ref_transcript_filter=ref_filter)"
   ]
  },
  {
   "cell_type": "code",
   "execution_count": null,
   "id": "81f43b08-5ef3-4ebc-b54f-eaf7dc8f5cfb",
   "metadata": {},
   "outputs": [],
   "source": [
    "#compute some summary statistics on technical artifacts.\n",
    "tr_stats=[\n",
    "    isoseq.transcript_length_hist(\n",
    "        groups=sample_groups,\n",
    "        add_reference=True,\n",
    "        min_coverage=2,\n",
    "        tr_filter=dict(remove=['NOVEL_GENE']),\n",
    "        ref_filter=dict(include=['HIGH_SUPPORT'])\n",
    "    ),\n",
    "    isoseq.downstream_a_hist(\n",
    "        groups=sample_groups,\n",
    "        tr_filter=dict( remove=['NOVEL_GENE', 'UNSPLICED']),\n",
    "        ref_filter=dict(remove=['UNSPLICED'])\n",
    "    ),\n",
    "    isoseq.downstream_a_hist(\n",
    "        groups=sample_groups,\n",
    "        tr_filter=dict(include=['NOVEL_GENE', 'UNSPLICED'])\n",
    "    ),\n",
    "    isoseq.direct_repeat_hist(\n",
    "        groups=sample_groups,\n",
    "        bins=np.linspace(-.5,10.5,12)\n",
    "     )\n",
    "]"
   ]
  },
  {
   "cell_type": "code",
   "execution_count": null,
   "id": "1b7e6a05-28a3-42cc-aec6-9ab63a0bf847",
   "metadata": {},
   "outputs": [],
   "source": [
    "tr_stats[0][0]"
   ]
  },
  {
   "cell_type": "code",
   "execution_count": null,
   "id": "ee3eeaa9-97ec-4710-beeb-6b1831426a76",
   "metadata": {},
   "outputs": [],
   "source": [
    "tr_stats.append(\n",
    "    (\n",
    "        pd.concat(\n",
    "            [\n",
    "                tr_stats[2][0].add_suffix(\n",
    "                    ' novel unspliced'\n",
    "                ),tr_stats[1][0].add_suffix(\n",
    "                    ' known multiexon'\n",
    "                )\n",
    "            ],\n",
    "            axis=1\n",
    "        ),tr_stats[2][1]\n",
    "    )\n",
    ")"
   ]
  },
  {
   "cell_type": "code",
   "execution_count": null,
   "id": "5fb375d4-f7fe-4137-a840-8d1796c1d32b",
   "metadata": {},
   "outputs": [],
   "source": [
    "#statistic on the filter flags\n",
    "f_stats=isoseq.filter_stats(\n",
    "    groups=sample_groups,\n",
    "    weight_by_coverage=True,\n",
    "    min_coverage=1\n",
    ")"
   ]
  },
  {
   "cell_type": "code",
   "execution_count": null,
   "id": "79cbaefa-f835-420c-a6c7-bdd08f2b874a",
   "metadata": {},
   "outputs": [],
   "source": [
    "f_stats[0].index=f_stats[0].index.str.replace('_','\\n')"
   ]
  },
  {
   "cell_type": "code",
   "execution_count": null,
   "id": "82115766-4491-4199-8ed1-275aa6119aae",
   "metadata": {},
   "outputs": [],
   "source": [
    "#QC plot\n",
    "from isotools.plots import plot_bar, plot_distr\n",
    "\n",
    "plt.rcParams[\"figure.figsize\"] = (15,15)\n",
    "plt.rcParams.update({'font.size': 14})\n",
    "\n",
    "\n",
    "fig, axs = plt.subplots(2,2)\n",
    "#A) transcript length\n",
    "plot_distr(tr_stats[0][0],smooth=3,ax=axs[0,0],**tr_stats[0][1])\n",
    "#B) internal priming\n",
    "plot_distr(tr_stats[4][0],smooth=3,ax=axs[0,1],density=True,fill=True, **tr_stats[4][1])\n",
    "#C) RTTS\n",
    "plot_distr(tr_stats[3][0],ax=axs[1,0],density=True,**tr_stats[3][1])\n",
    "#D) frequency of artifacts\n",
    "plot_bar(f_stats[0],ax=axs[1,1],drop_categories=['MULTIEXON','NOVEL\\nTRANSCRIPT','NOVEL','UNSPLICED','NONCANONICAL\\nSPLICING' ],**f_stats[1])\n",
    "\n",
    "fig.tight_layout()"
   ]
  },
  {
   "cell_type": "code",
   "execution_count": null,
   "id": "7f53f478-c456-4a66-8bd1-310ac970678b",
   "metadata": {},
   "outputs": [],
   "source": [
    "ref=[[[12,20],[30,40], [50,60],[70,81]],\n",
    "     [[11,20],[35,40],         [70,79]],\n",
    "     [[10,20],[30,40], [50,60],[75,80]]]\n",
    "novel={'FSM':         [[10,20],[30,40], [50,60],[70,80]],\n",
    "       \"5' fragment\": [[33,40], [50,60],[70,80]],\n",
    "       \"3' fragment\": [[10,20],[30,40], [50,55]],\n",
    "       \"mono exon\"  : [[22,35]],\n",
    "       \"exon skipping\"     :  [[10,20], [50,60],[70,80]],\n",
    "       \"intron retention\"  :  [[10,40], [50,60],[70,80]],\n",
    "       \"novel combination\" :  [[10,20],[35,40], [50,60],[75,80]],\n",
    "       \"novel junction\"  :   [[10,20],[30,40], [75,80]],\n",
    "       \"novel exonic TSS\"  :  [[26,40], [50,60],[70,80]],\n",
    "       \"novel exonic PAS\"  :  [[10,20],[30,40], [50,66]],\n",
    "       \"novel 5' splice site\":[[10,24],[30,40], [50,60],[70,80]],\n",
    "       \"novel 3' splice site\":[[10,20],[26,40], [50,60],[70,80]],\n",
    "       \"novel exon\"  :        [[10,20],[30,40],[43,47], [50,60],[70,80]],\n",
    "       \"novel intronic TSS\" : [[43,47],[50,60],[70,80]],\n",
    "       \"novel intronic PAS\" : [[10,20],[30,40], [82,90]]}\n",
    "ref={'transcripts':[{'exons':e, 'transcript_name':f'reference {i+1}'} for i,e in enumerate(ref)]}\n",
    "transcripts=[{'exons':e, 'transcript_name':n} for n,e in novel.items()]\n",
    "cat=['FSM','ISM','NIC','NNC','novel gene']"
   ]
  },
  {
   "cell_type": "code",
   "execution_count": null,
   "id": "e4d7c703-3416-4d61-80a0-53df1cd73411",
   "metadata": {},
   "outputs": [],
   "source": [
    "cnr={}\n",
    "for g, trid, tr in isoseq.iter_transcripts():\n",
    "    for anno in tr['annotation'][1]:\n",
    "        cnr[anno]=min(cnr.get(anno,5),tr['annotation'][0])\n",
    "        \n",
    "del cnr['FSM']\n",
    "\n",
    "altsplice=[\n",
    "    isoseq.altsplice_stats(\n",
    "        #groups=isoseq.groups(),\n",
    "        groups=sample_groups,\n",
    "        weight_by_coverage=True,\n",
    "        min_coverage=1,\n",
    "        tr_filter=dict(remove=['RTTS', 'FRAGMENT', 'INTERNAL_PRIMING'])\n",
    "    ),\n",
    "    isoseq.altsplice_stats(\n",
    "        #groups=isoseq.groups(),\n",
    "        groups=sample_groups,\n",
    "        weight_by_coverage=True,\n",
    "        min_coverage=2,\n",
    "        tr_filter=dict( remove=['RTTS', 'FRAGMENT', 'INTERNAL_PRIMING'])\n",
    "    ),\n",
    "    isoseq.altsplice_stats(\n",
    "        #groups=isoseq.groups(),\n",
    "        groups=sample_groups,\n",
    "        weight_by_coverage=False,\n",
    "        min_coverage=20,\n",
    "        tr_filter=dict( remove=['RTTS', 'FRAGMENT', 'INTERNAL_PRIMING'])\n",
    "    )\n",
    "]\n",
    "for i in range(3):\n",
    "    altsplice[i][0].index=altsplice[i][0].index+[f'\\n({cat[cnr[subcat]]})' if subcat in cnr else '' for subcat in altsplice[i][0].index]\n",
    "    altsplice[i][0].index=altsplice[i][0].index.str.replace('splice ','\\nsplice ')"
   ]
  },
  {
   "cell_type": "code",
   "execution_count": null,
   "id": "159f02d0-113d-4f1a-91ce-352c47298d91",
   "metadata": {},
   "outputs": [],
   "source": [
    "from isotools.plots import plot_bar, plot_distr\n",
    "\n",
    "plt.rcParams[\"figure.figsize\"] = (20,10)\n",
    "_=plot_bar(altsplice[0][0],bar_width=.9,ylabel='fraction of reads [%]', legend=False, rot=90,)"
   ]
  },
  {
   "cell_type": "code",
   "execution_count": null,
   "id": "e74b496e-3d95-48dc-b364-5e6d5ee14e40",
   "metadata": {},
   "outputs": [],
   "source": [
    "import re"
   ]
  },
  {
   "cell_type": "code",
   "execution_count": null,
   "id": "c8bc88cb-842e-4c35-adcc-a68476cd497e",
   "metadata": {},
   "outputs": [],
   "source": [
    "coord = re.compile(\"[0-9]+\\-[0-9]+\")"
   ]
  },
  {
   "cell_type": "code",
   "execution_count": null,
   "id": "c6e1dfe5-492b-4f9b-8913-249075b18567",
   "metadata": {},
   "outputs": [],
   "source": [
    "coord"
   ]
  },
  {
   "cell_type": "code",
   "execution_count": null,
   "id": "f3ac6c18-94af-4f2b-816e-431f1ce552dd",
   "metadata": {},
   "outputs": [],
   "source": [
    "coord.search(str(isoseq['MAPT']).split(\" \")[2]).group(0).split(\"-\")"
   ]
  },
  {
   "cell_type": "code",
   "execution_count": null,
   "id": "436fd235-73ea-4b15-9fdb-4916c82cffc2",
   "metadata": {},
   "outputs": [],
   "source": [
    "isoseq['MAPT'].__str__().split(\" \")[2]"
   ]
  },
  {
   "cell_type": "code",
   "execution_count": null,
   "id": "eca89bae-e50a-4eb0-b931-c35d4f3b7e5f",
   "metadata": {},
   "outputs": [],
   "source": [
    "goi = \"IKZF1\""
   ]
  },
  {
   "cell_type": "code",
   "execution_count": null,
   "id": "e4db4765-4bb0-4205-a213-161cae463273",
   "metadata": {},
   "outputs": [],
   "source": [
    "plt.rcParams[\"figure.figsize\"] = (20,15)\n",
    "fig,axs=isoseq[goi].sashimi_figure(samples=sample_groups, x_range=[int(_) for _ in coord.search(isoseq[goi].region).group(0).split(\"-\")])\n",
    "fig.tight_layout()"
   ]
  },
  {
   "cell_type": "code",
   "execution_count": null,
   "id": "d981d56c-469f-4945-b365-c4d1ec43df96",
   "metadata": {},
   "outputs": [],
   "source": [
    "goi = \"IFI44L\"\n",
    "plt.rcParams[\"figure.figsize\"] = (20,15)\n",
    "fig,axs=isoseq[goi].sashimi_figure(samples=sample_groups, x_range=[int(_) for _ in coord.search(isoseq[goi].region).group(0).split(\"-\")])\n",
    "fig.tight_layout()"
   ]
  },
  {
   "cell_type": "code",
   "execution_count": null,
   "id": "5d64036d-eb07-4de8-a8d4-c012a3fee701",
   "metadata": {},
   "outputs": [],
   "source": [
    "from isotools.plots import plot_embedding"
   ]
  },
  {
   "cell_type": "code",
   "execution_count": null,
   "id": "061d3ae3-f249-466a-bf29-9e8d3b37b9f3",
   "metadata": {},
   "outputs": [],
   "source": [
    "pca={}\n",
    "\n",
    "splice_events=isoseq.alternative_splicing_events()\n",
    "\n",
    "plt.rcParams[\"figure.figsize\"] = (15,30)\n",
    "f,axs=plt.subplots(4,2)\n",
    "for ax,t in zip(axs.flatten(),['all','3AS','5AS','ES','IR','ME', 'TSS', 'PAS']):\n",
    "    pca[t]=plot_embedding(splice_events, ax=ax, labels=False, groups=isoseq.groups(), splice_types=t)\n",
    "\n",
    "axs[0,0].legend(fontsize='medium', ncol=4,handleheight=2.4, labelspacing=0.05, bbox_to_anchor=(0, 1.1), loc='lower left')"
   ]
  },
  {
   "cell_type": "code",
   "execution_count": null,
   "id": "5e26bae6-9fce-4af7-82d9-ff0135e3e1f8",
   "metadata": {},
   "outputs": [],
   "source": [
    "plt.rcParams[\"figure.figsize\"] = (15,25)\n",
    "umap={}\n",
    "f,axs=plt.subplots(4,2)\n",
    "for ax,t in zip(axs.flatten(),['all','3AS','5AS','ES','IR','ME', 'TSS', 'PAS']):\n",
    "    umap[t]=plot_embedding(splice_events, method='UMAP',n_neighbors=6, ax=ax, labels=False, groups=isoseq.groups(), splice_types=t)\n",
    "\n",
    "\n",
    "axs[0,0].legend(fontsize='medium', ncol=4,handleheight=2.4, labelspacing=0.05, bbox_to_anchor=(0, 1.1), loc='lower left')"
   ]
  },
  {
   "cell_type": "code",
   "execution_count": null,
   "id": "9d924036-2be7-4fdc-bad5-ab61724e4f5e",
   "metadata": {},
   "outputs": [],
   "source": [
    "cname=['FSM','ISM','NIC','NNC','novel gene']\n",
    "cnr={}\n",
    "for g, trid, tr in isoseq.iter_transcripts():\n",
    "    for anno in tr['annotation'][1]:\n",
    "        cnr[anno]=min(cnr.get(anno,5),tr['annotation'][0])\n",
    "\n",
    "# del cnr['FSM']\n",
    "altsplice=[\n",
    "    isoseq.altsplice_stats(\n",
    "        groups=sample_groups,\n",
    "        weight_by_coverage=True,\n",
    "        min_coverage=1,\n",
    "        tr_filter=dict(remove=['RTTS', 'FRAGMENT', 'INTERNAL_PRIMING'])\n",
    "    ),\n",
    "    isoseq.altsplice_stats(\n",
    "        groups=sample_groups,\n",
    "        weight_by_coverage=True,\n",
    "        min_coverage=2,\n",
    "        tr_filter=dict(remove=['RTTS', 'FRAGMENT', 'INTERNAL_PRIMING'])\n",
    "    ),\n",
    "    isoseq.altsplice_stats(\n",
    "        groups=sample_groups,\n",
    "        weight_by_coverage=False,\n",
    "        min_coverage=20,\n",
    "        tr_filter=dict(remove=['RTTS', 'FRAGMENT', 'INTERNAL_PRIMING'])\n",
    "    )\n",
    "]\n",
    "\n",
    "for i in range(3):\n",
    "    altsplice[i][0].index=altsplice[i][0].index+[f'\\n({cname[cnr[subcat]]})' if subcat in cnr else '' for subcat in altsplice[i][0].index]\n",
    "    altsplice[i][0].index=altsplice[i][0].index.str.replace('splice ','\\nsplice ')"
   ]
  },
  {
   "cell_type": "code",
   "execution_count": null,
   "id": "81e47b02-c2d0-4e9e-bb29-569121f76049",
   "metadata": {},
   "outputs": [],
   "source": [
    "from isotools.plots import plot_bar, plot_distr\n",
    "\n",
    "plt.rcParams[\"figure.figsize\"] = (30,40)\n",
    "fig, axs = plt.subplots( 5)\n",
    "for i,ax in enumerate(axs):\n",
    "    cat=altsplice[0][0].index[i*4+2:(i+1)*4+2]\n",
    "    plot_bar(altsplice[0][0],bar_width=.9,ax=ax,ylabel='fraction of reads [%]', legend=False, rot=0,drop_categories=[c for c in altsplice[0][0].index if c not in cat])\n",
    "axs[-1].legend(fontsize='large', ncol=7,handleheight=2.4, labelspacing=0.05, bbox_to_anchor=(0, -.2), loc='upper left')\n",
    "_=axs[0].set_title('Novel Transcript Categories')\n",
    "plt.savefig(fname=\"novel_xscript_cats.png\")"
   ]
  },
  {
   "cell_type": "code",
   "execution_count": null,
   "id": "65feb43c-7fa7-40e3-8a25-eee00de9993b",
   "metadata": {
    "tags": []
   },
   "outputs": [],
   "source": [
    "def plot_diff_example(row, isoseq, groups):\n",
    "    #sashimi plot for differential spliced genes\n",
    "    plt.rcParams[\"figure.figsize\"] = (15,10)\n",
    "    #select gene object\n",
    "    g=isoseq[row.gene_id]\n",
    "    #make the title\n",
    "    gn=list(groups)\n",
    "    novel='novel' if row.novel else 'known'\n",
    "    title=f'{g.name} {row.splice_type} ({novel}) FDR={row.padj:.2e}: {gn[0]}={row[gn[0]+\"_PSI\"]*100:.1f} vs {gn[1]}={row[gn[1]+\"_PSI\"]*100:.1f} PSI'\n",
    "    print(title)\n",
    "    start=row.start\n",
    "    end=row.end\n",
    "    #select the junctions of interest (which will be marked purple in the plot)\n",
    "    joi=[(start,end)]\n",
    "    if row.splice_type=='ME' and g.is_annotated:\n",
    "        try:\n",
    "            sg=g.ref_segment_graph\n",
    "            n1=next(n for n in sg if n[1]==start)\n",
    "            n2=next(n for n in sg if n[0]==end)\n",
    "            joi={(start,sg[suc].start) for suc in n1.suc.values() if sg[suc].start<end }\n",
    "            joi.update({(sg[pre].end,end) for pre in n2.pre.values() if sg[pre].end>start })\n",
    "        except:\n",
    "            pass\n",
    "    #draw the plot for the two sample groups from the comparison\n",
    "    f,axs=g.sashimi_figure(samples=groups , x_range=(start-500, end+500),junctions_of_interest=joi    )\n",
    "    axs[0].set_title(title)\n",
    "    fig.tight_layout()"
   ]
  },
  {
   "cell_type": "code",
   "execution_count": null,
   "id": "00ea6847-b8ce-4c0f-9fed-52dfd74203f1",
   "metadata": {},
   "outputs": [],
   "source": [
    "from isotools.plots import plot_diff_results\n",
    "#We are mostly interested in differential splicing. Alternative TSS and PAS are ignored for now.\n",
    "types_of_interest=['ES','ME','5AS','3AS']\n",
    "#dict to store the results in\n",
    "res={}"
   ]
  },
  {
   "cell_type": "code",
   "execution_count": null,
   "id": "ece0d71b-f904-4a39-b8de-d62bcb3783cb",
   "metadata": {
    "tags": []
   },
   "outputs": [],
   "source": [
    "diff_cmp='NEG/SLE'\n",
    "groups={k:sample_groups[k] for k in diff_cmp.split('/')}\n",
    "\n",
    "#takes about 20 min\n",
    "res[diff_cmp]=isoseq.altsplice_test(groups).sort_values('pvalue').reset_index()\n",
    "res[diff_cmp].to_csv(f'encode_diff_betabinomial_{\"_\".join(groups)}.csv', index=False)\n",
    "#res[diff_cmp]=pd.read_csv(f'encode_diff_betabinomial_{\"_\".join(groups)}.csv')\n",
    "sig=res[diff_cmp].padj<.1\n",
    "print(f'{sum(sig)} differential splice sites in {len(res[diff_cmp].loc[sig,\"gene\"].unique())} genes for {\" vs \".join(groups)}')\n",
    "res[diff_cmp][res[diff_cmp].splice_type.isin(types_of_interest)].head(10)"
   ]
  },
  {
   "cell_type": "code",
   "execution_count": null,
   "id": "b0d620c5-0364-464c-8c64-199536bfbe03",
   "metadata": {},
   "outputs": [],
   "source": [
    "goi = \"ANPEP\"\n",
    "plt.rcParams[\"figure.figsize\"] = (20,15)\n",
    "fig,axs=isoseq[goi].sashimi_figure(samples=sample_groups, x_range=[int(_) for _ in coord.search(isoseq[goi].region).group(0).split(\"-\")])\n",
    "fig.tight_layout()"
   ]
  },
  {
   "cell_type": "code",
   "execution_count": null,
   "id": "ce0d6c7d-043e-4da6-95d2-0001acc7f26c",
   "metadata": {},
   "outputs": [],
   "source": [
    "goi = \"PECAM1\"\n",
    "plt.rcParams[\"figure.figsize\"] = (20,15)\n",
    "fig,axs=isoseq[goi].sashimi_figure(samples=sample_groups, x_range=[int(_) for _ in coord.search(isoseq[goi].region).group(0).split(\"-\")])\n",
    "fig.tight_layout()"
   ]
  },
  {
   "cell_type": "code",
   "execution_count": null,
   "id": "0345c5d5-457a-456a-b3ae-7bb2694eb71a",
   "metadata": {},
   "outputs": [],
   "source": [
    "res[diff_cmp].sort_values(\"padj\")"
   ]
  },
  {
   "cell_type": "code",
   "execution_count": null,
   "id": "571e7d31-7d4f-489d-8803-0868b04f9f28",
   "metadata": {},
   "outputs": [],
   "source": [
    "res[diff_cmp].loc[:,[\"gene\",\"padj\"]].sort_values(\"padj\").drop_duplicates()"
   ]
  },
  {
   "cell_type": "code",
   "execution_count": null,
   "id": "93fac8af-babb-41ee-b62f-0379974d4a2e",
   "metadata": {},
   "outputs": [],
   "source": [
    "top_goi = np.unique(res[diff_cmp].loc[:,[\"gene\",\"padj\"]].sort_values(\"padj\").drop_duplicates().loc[:,\"gene\"].values[1:10])\n",
    "top_goi"
   ]
  },
  {
   "cell_type": "code",
   "execution_count": null,
   "id": "34c04d9c-75d5-429f-aea4-cb7136a703df",
   "metadata": {
    "tags": []
   },
   "outputs": [],
   "source": [
    "from typing import Dict, List, Optional\n",
    "\n",
    "def plot_sashimi(goi: str, obj: isotools.transcriptome.Transcriptome, groups: Optional[Dict[str, List[str]]] = None) -> None:\n",
    "    \n",
    "    if groups is None:\n",
    "        groups = obj.groups()\n",
    "    \n",
    "    coord = re.compile(\"[0-9]+\\-[0-9]+\")\n",
    "    plt.rcParams[\"figure.figsize\"] = (20,15)\n",
    "    \n",
    "    fig, axs = obj[goi].sashimi_figure(\n",
    "        samples=groups,\n",
    "        x_range=[\n",
    "            int(_)\n",
    "            for _\n",
    "            in coord.search(obj[goi].region).group(0).split(\"-\")\n",
    "        ]\n",
    "    )\n",
    "    fig.tight_layout()"
   ]
  },
  {
   "cell_type": "code",
   "execution_count": null,
   "id": "e9a9e0fa-c933-48a8-8682-5662c257ee53",
   "metadata": {},
   "outputs": [],
   "source": [
    "plot_sashimi(\"PML\", isoseq)"
   ]
  },
  {
   "cell_type": "code",
   "execution_count": null,
   "id": "4ccc1933-5967-4e08-adcd-1a0d25117c48",
   "metadata": {},
   "outputs": [],
   "source": [
    "from functools import partial"
   ]
  },
  {
   "cell_type": "code",
   "execution_count": null,
   "id": "44e082ea-890b-4523-91e7-e3502bae51aa",
   "metadata": {},
   "outputs": [],
   "source": [
    "ps_part = partial(plot_sashimi, obj=isoseq, groups=sample_groups)\n",
    "list(map(ps_part, top_goi))"
   ]
  },
  {
   "cell_type": "code",
   "execution_count": null,
   "id": "77e33ae5-0bea-43f5-90f8-c41571d77b93",
   "metadata": {},
   "outputs": [],
   "source": [
    "isoseq.save(\"all_pilot_samples.pkl\")"
   ]
  },
  {
   "cell_type": "markdown",
   "id": "dad147eb-9a32-4c4e-96ce-5c2764bbf30f",
   "metadata": {},
   "source": [
    "# Compare Differential splicing"
   ]
  },
  {
   "cell_type": "code",
   "execution_count": null,
   "id": "f2a41299-b494-4ba4-9d6e-68776ccd40d4",
   "metadata": {},
   "outputs": [],
   "source": [
    "from isotools.plots import plot_diff_results\n",
    "#We are mostly interested in differential splicing. Alternative TSS and PAS are ignored for now.\n",
    "types_of_interest=['ES','ME','5AS','3AS']\n",
    "#dict to store the results in\n",
    "res={}"
   ]
  },
  {
   "cell_type": "code",
   "execution_count": null,
   "id": "9919bf02-9d9a-47e9-84df-64d4832e395b",
   "metadata": {},
   "outputs": [],
   "source": [
    "diff_cmp = \"NEG/SLE\"\n",
    "\n",
    "#takes about 20 min\n",
    "res[diff_cmp]=isoseq.altsplice_test(groups).sort_values('pvalue').reset_index()\n",
    "res[diff_cmp].to_csv(f'encode_diff_betabinomial_{\"_\".join(groups)}.csv', index=False)\n",
    "#res[diff_cmp]=pd.read_csv(f'encode_diff_betabinomial_{\"_\".join(groups)}.csv')\n",
    "sig=res[diff_cmp].padj<.1\n",
    "print(f'{sum(sig)} differential splice sites in {len(res[diff_cmp].loc[sig,\"gene\"].unique())} genes for {\" vs \".join(groups)}')\n",
    "res[diff_cmp][res[diff_cmp].splice_type.isin(types_of_interest)].head(10).iloc[:,1:10]"
   ]
  },
  {
   "cell_type": "code",
   "execution_count": null,
   "id": "36710fa0-5761-42ce-9468-eb184980eda8",
   "metadata": {},
   "outputs": [],
   "source": [
    "res[diff_cmp][res[diff_cmp].splice_type.isin(types_of_interest)].head(10).iloc[:,1:17]"
   ]
  },
  {
   "cell_type": "code",
   "execution_count": null,
   "id": "805b6015-9960-4b85-9d4c-ac03d42777b8",
   "metadata": {},
   "outputs": [],
   "source": [
    "plot_diff_example(res[diff_cmp].iloc[1], isoseq, groups)"
   ]
  },
  {
   "cell_type": "code",
   "execution_count": null,
   "id": "d90d20cc-de4d-4c02-ba72-e4dae5df3c7d",
   "metadata": {},
   "outputs": [],
   "source": [
    "plot_diff_example(res[diff_cmp].iloc[2], isoseq, groups)"
   ]
  },
  {
   "cell_type": "code",
   "execution_count": null,
   "id": "5a87afc0-8f8f-4cd4-8531-9a77839d3508",
   "metadata": {},
   "outputs": [],
   "source": [
    "plot_diff_example(res[diff_cmp].iloc[3], isoseq, groups)"
   ]
  },
  {
   "cell_type": "code",
   "execution_count": null,
   "id": "92bed5a7-39bc-439c-a8c3-81c3d8b6f4e8",
   "metadata": {},
   "outputs": [],
   "source": [
    "result_table=res[diff_cmp]\n",
    "min_support=2,\n",
    "min_diff=0.1\n",
    "grid_shape=(5, 5)\n",
    "splice_types=['ES', 'ME', '5AS', '3AS']"
   ]
  },
  {
   "cell_type": "code",
   "execution_count": null,
   "id": "cdb07958-f5af-4e40-bdad-c6fe1a13e7d9",
   "metadata": {},
   "outputs": [],
   "source": [
    "plt.rcParams[\"figure.figsize\"] = (20,20)\n",
    "f,axs,plotted=plot_diff_results(res[diff_cmp], min_diff=.1,grid_shape=(7,5),min_support=2, splice_types=['ES', 'ME', '5AS', '3AS'])\n",
    "f.savefig(f'encode_diff_betabinomial_{\"_\".join(groups)}.png')\n",
    "plotted.to_csv(f'encode_diff_betabinomial_plot_{\"_\".join(groups)}.csv', index=False)"
   ]
  },
  {
   "cell_type": "code",
   "execution_count": null,
   "id": "2666dd6a-4d3d-4ee5-b5cc-192166c10346",
   "metadata": {},
   "outputs": [],
   "source": [
    "sig=(res[\"NEG/SLE\"].padj<.01) & (res[\"NEG/SLE\"].splice_type.isin( [\"ME\", \"ES\",\"5AS\",\"3AS\",\"IR\"]))\n",
    "res[\"NEG/SLE\"].loc[sig].head(20)\n"
   ]
  },
  {
   "cell_type": "code",
   "execution_count": null,
   "id": "90dc7ea3-30dd-4482-aa31-1b8a2386e475",
   "metadata": {},
   "outputs": [],
   "source": [
    "plt.rcParams[\"figure.figsize\"] = (10,10)\n",
    "plt.rcParams.update({'font.size': 12})\n",
    "f,axs=plt.subplots(2,2)\n",
    "for nr,(ax,cov_th) in enumerate(zip(axs.flatten(),[1,2,5,10])):\n",
    "    plot_saturation(isoseq, ax=ax,cov_th=cov_th, title='',x_range=(1e4,2e4,1e4), legend=False, xlabel='number of reads [million]', ylabel='probability')\n",
    "    ax.set_title('ABCD'[nr],{'fontsize':20}, loc='left', pad=10)\n",
    "ax.legend(loc='upper left')\n",
    "f.tight_layout()"
   ]
  }
 ],
 "metadata": {
  "kernelspec": {
   "display_name": "Python 3.8 (XPython)",
   "language": "python",
   "name": "xpython"
  },
  "language_info": {
   "file_extension": ".py",
   "mimetype": "text/x-python",
   "name": "python",
   "version": "3.8.10"
  }
 },
 "nbformat": 4,
 "nbformat_minor": 5
}
